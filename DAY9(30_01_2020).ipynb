{
  "nbformat": 4,
  "nbformat_minor": 0,
  "metadata": {
    "colab": {
      "name": "DAY9(30-01-2020).ipynb",
      "provenance": [],
      "authorship_tag": "ABX9TyO1bp6Ahyyk2w5x+ljueLk3",
      "include_colab_link": true
    },
    "kernelspec": {
      "name": "python3",
      "display_name": "Python 3"
    }
  },
  "cells": [
    {
      "cell_type": "markdown",
      "metadata": {
        "id": "view-in-github",
        "colab_type": "text"
      },
      "source": [
        "<a href=\"https://colab.research.google.com/github/nikhila-4/PYTHON/blob/master/DAY9(30_01_2020).ipynb\" target=\"_parent\"><img src=\"https://colab.research.google.com/assets/colab-badge.svg\" alt=\"Open In Colab\"/></a>"
      ]
    },
    {
      "cell_type": "code",
      "metadata": {
        "id": "zlaT44PLQjQT",
        "colab_type": "code",
        "colab": {}
      },
      "source": [
        ""
      ],
      "execution_count": 0,
      "outputs": []
    },
    {
      "cell_type": "markdown",
      "metadata": {
        "id": "MCgnuWE-ZC7J",
        "colab_type": "text"
      },
      "source": [
        "# Markdown\n",
        "## Markdown\n",
        "### Markdown\n",
        "#### Markdown"
      ]
    },
    {
      "cell_type": "code",
      "metadata": {
        "id": "0Be0pW2pZSrt",
        "colab_type": "code",
        "colab": {}
      },
      "source": [
        ""
      ],
      "execution_count": 0,
      "outputs": []
    },
    {
      "cell_type": "markdown",
      "metadata": {
        "id": "SFO4BbIBZ6jA",
        "colab_type": "text"
      },
      "source": [
        "**Points**\n",
        "\n",
        "*Points*\n",
        "\n",
        "***Points***"
      ]
    },
    {
      "cell_type": "markdown",
      "metadata": {
        "id": "aumzJro2cMW0",
        "colab_type": "text"
      },
      "source": [
        "*** Adding links to Markdown***\n",
        "\n",
        "[site](https://en.wikipedia.org/wiki/Jawaharlal_Nehru_Technological_University,_Anantapur)"
      ]
    },
    {
      "cell_type": "markdown",
      "metadata": {
        "id": "guhRj1Haa0Fh",
        "colab_type": "text"
      },
      "source": [
        ""
      ]
    },
    {
      "cell_type": "markdown",
      "metadata": {
        "id": "4rqNfKcXdHZQ",
        "colab_type": "text"
      },
      "source": [
        "### Inserting image\n",
        "![text](https://upload.wikimedia.org/wikipedia/commons/thumb/3/31/JNTU_College_of_Engineering_Anantapur.jpg/220px-JNTU_College_of_Engineering_Anantapur.jpg)"
      ]
    },
    {
      "cell_type": "code",
      "metadata": {
        "id": "OCBXu6IFdlT8",
        "colab_type": "code",
        "colab": {}
      },
      "source": [
        ""
      ],
      "execution_count": 0,
      "outputs": []
    },
    {
      "cell_type": "code",
      "metadata": {
        "id": "C9CDnDZTee3T",
        "colab_type": "code",
        "colab": {
          "base_uri": "https://localhost:8080/",
          "height": 35
        },
        "outputId": "807bbc43-9b4c-4e91-d1aa-4513bd2a1829"
      },
      "source": [
        "print(\"hello\")"
      ],
      "execution_count": 2,
      "outputs": [
        {
          "output_type": "stream",
          "text": [
            "hello\n"
          ],
          "name": "stdout"
        }
      ]
    },
    {
      "cell_type": "code",
      "metadata": {
        "id": "nVZe1yeJehhg",
        "colab_type": "code",
        "colab": {
          "base_uri": "https://localhost:8080/",
          "height": 52
        },
        "outputId": "5bbae29d-b845-4080-cd09-5e6193a97d33"
      },
      "source": [
        "print(\"hello , Jntua\")\n",
        "print(\"hello, Jntua\",\"|||\" ,\"Chemical\",\"|||\",\"CSe\" ,\"|||\",\"Mca\")\n"
      ],
      "execution_count": 5,
      "outputs": [
        {
          "output_type": "stream",
          "text": [
            "hello , Jntua\n",
            "hello, Jntua ||| Chemical ||| CSe ||| Mca\n"
          ],
          "name": "stdout"
        }
      ]
    },
    {
      "cell_type": "code",
      "metadata": {
        "id": "PVhuxvPPjcFS",
        "colab_type": "code",
        "colab": {}
      },
      "source": [
        ""
      ],
      "execution_count": 0,
      "outputs": []
    },
    {
      "cell_type": "markdown",
      "metadata": {
        "id": "LA9Rh85CkNZy",
        "colab_type": "text"
      },
      "source": [
        "# Assignment"
      ]
    },
    {
      "cell_type": "code",
      "metadata": {
        "id": "rgtN0I1WkRpg",
        "colab_type": "code",
        "colab": {
          "base_uri": "https://localhost:8080/",
          "height": 69
        },
        "outputId": "7674956b-44ff-4ec0-c508-283bbd1c9d45"
      },
      "source": [
        "n1 = 100 # single variable assignment\n",
        "print(n1)\n",
        "a = b = c = 10 # multi variable assignment of same value\n",
        "print(a,b,c)\n",
        "a1,b1,c1 = 100,200,300 # mutliple variable assignment with different values\n",
        "print(a1,b1,c1)"
      ],
      "execution_count": 10,
      "outputs": [
        {
          "output_type": "stream",
          "text": [
            "100\n",
            "10 10 10\n",
            "100 200 300\n"
          ],
          "name": "stdout"
        }
      ]
    },
    {
      "cell_type": "markdown",
      "metadata": {
        "id": "7y_WlVrDl4Rb",
        "colab_type": "text"
      },
      "source": [
        "# Data types and conversions\n",
        "* int\n",
        "* float\n",
        "* string"
      ]
    },
    {
      "cell_type": "code",
      "metadata": {
        "id": "HVmcLNzbkczR",
        "colab_type": "code",
        "colab": {
          "base_uri": "https://localhost:8080/",
          "height": 35
        },
        "outputId": "cf5ffc42-6d06-4fd7-b942-d7a5b0926f5e"
      },
      "source": [
        "a = 100\n",
        "s1 = 10.2\n",
        "s2= \"python\"\n",
        "print(type(a),type(s1),type(s2))"
      ],
      "execution_count": 11,
      "outputs": [
        {
          "output_type": "stream",
          "text": [
            "<class 'int'> <class 'float'> <class 'str'>\n"
          ],
          "name": "stdout"
        }
      ]
    },
    {
      "cell_type": "code",
      "metadata": {
        "id": "oE1CMPGZmswe",
        "colab_type": "code",
        "colab": {
          "base_uri": "https://localhost:8080/",
          "height": 69
        },
        "outputId": "a1603317-8d08-4488-a372-cd93bbb6a521"
      },
      "source": [
        "i = 100\n",
        "print(type(i))\n",
        "s1 = str(i)\n",
        "print(type(s1))\n",
        "f1 = float(i)\n",
        "print(type(f1))\n"
      ],
      "execution_count": 12,
      "outputs": [
        {
          "output_type": "stream",
          "text": [
            "<class 'int'>\n",
            "<class 'str'>\n",
            "<class 'float'>\n"
          ],
          "name": "stdout"
        }
      ]
    },
    {
      "cell_type": "code",
      "metadata": {
        "id": "G2aSjHOmnnj0",
        "colab_type": "code",
        "colab": {
          "base_uri": "https://localhost:8080/",
          "height": 35
        },
        "outputId": "730edf16-0847-4d8a-ba4c-16d530f12ceb"
      },
      "source": [
        "# lenght\n",
        "a = 123456\n",
        "print(len(str(a)))"
      ],
      "execution_count": 14,
      "outputs": [
        {
          "output_type": "stream",
          "text": [
            "6\n"
          ],
          "name": "stdout"
        }
      ]
    },
    {
      "cell_type": "code",
      "metadata": {
        "id": "dxiMqpu5oT6y",
        "colab_type": "code",
        "colab": {}
      },
      "source": [
        ""
      ],
      "execution_count": 0,
      "outputs": []
    },
    {
      "cell_type": "markdown",
      "metadata": {
        "id": "YjgQWk5bo2yD",
        "colab_type": "text"
      },
      "source": [
        "# Reading input from user---input function"
      ]
    },
    {
      "cell_type": "code",
      "metadata": {
        "id": "nyJAIMz4o8nR",
        "colab_type": "code",
        "colab": {
          "base_uri": "https://localhost:8080/",
          "height": 69
        },
        "outputId": "c4bccdb3-30c2-4bc8-917b-9982840c1905"
      },
      "source": [
        "a = input(\"enter ur name  : \")\n",
        "print(a)\n",
        "print(type(a))"
      ],
      "execution_count": 16,
      "outputs": [
        {
          "output_type": "stream",
          "text": [
            "enter ur name  : jntua\n",
            "jntua\n",
            "<class 'str'>\n"
          ],
          "name": "stdout"
        }
      ]
    },
    {
      "cell_type": "code",
      "metadata": {
        "id": "Bo5Q3L-_pSnR",
        "colab_type": "code",
        "colab": {
          "base_uri": "https://localhost:8080/",
          "height": 69
        },
        "outputId": "4dc638e5-affc-4467-9955-04ea2538f7ce"
      },
      "source": [
        "B = int(input(\"enter ur AGE  : \"))\n",
        "print(B)\n",
        "print(type(B))"
      ],
      "execution_count": 17,
      "outputs": [
        {
          "output_type": "stream",
          "text": [
            "enter ur AGE  : 423\n",
            "423\n",
            "<class 'int'>\n"
          ],
          "name": "stdout"
        }
      ]
    },
    {
      "cell_type": "markdown",
      "metadata": {
        "id": "DVl1ZXsBqd6b",
        "colab_type": "text"
      },
      "source": [
        "# Operators\n",
        "- Operators is a symblos is used to perform a specific kind of operations"
      ]
    },
    {
      "cell_type": "code",
      "metadata": {
        "id": "zl5t4qsIqI_y",
        "colab_type": "code",
        "colab": {}
      },
      "source": [
        ""
      ],
      "execution_count": 0,
      "outputs": []
    },
    {
      "cell_type": "markdown",
      "metadata": {
        "id": "WSoL80O-qzi6",
        "colab_type": "text"
      },
      "source": [
        "# Arithmatic Operator\n",
        "- +\n",
        "- -\n",
        "- * \n",
        "- /\n",
        "- % \n",
        "- //\n",
        "- **"
      ]
    },
    {
      "cell_type": "code",
      "metadata": {
        "id": "UV_NMd-eq2wg",
        "colab_type": "code",
        "colab": {
          "base_uri": "https://localhost:8080/",
          "height": 139
        },
        "outputId": "4435a5a9-85f9-4414-a56a-05f2401e5bbb"
      },
      "source": [
        "a = 1234\n",
        "print(a+10)\n",
        "print(a-10)\n",
        "print(a*10)\n",
        "print(a/10)\n",
        "print(a%10)\n",
        "print(a//10)\n",
        "print(a**10)"
      ],
      "execution_count": 19,
      "outputs": [
        {
          "output_type": "stream",
          "text": [
            "1244\n",
            "1224\n",
            "12340\n",
            "123.4\n",
            "4\n",
            "123\n",
            "8187505353567209228244052427776\n"
          ],
          "name": "stdout"
        }
      ]
    },
    {
      "cell_type": "code",
      "metadata": {
        "id": "MNjr6bJsrUi-",
        "colab_type": "code",
        "colab": {}
      },
      "source": [
        ""
      ],
      "execution_count": 0,
      "outputs": []
    },
    {
      "cell_type": "markdown",
      "metadata": {
        "id": "BbzA-XtrtY_B",
        "colab_type": "text"
      },
      "source": [
        "# relational operator\n",
        "- =\n",
        "- ==\n",
        "- !=\n",
        "- <\n",
        "- >\n",
        "- <=\n",
        "- >=\n"
      ]
    },
    {
      "cell_type": "code",
      "metadata": {
        "id": "IX4scDOKtlvh",
        "colab_type": "code",
        "colab": {
          "base_uri": "https://localhost:8080/",
          "height": 35
        },
        "outputId": "b9b6847d-dcc2-4d3a-8d03-c6b4236f2f74"
      },
      "source": [
        "x =10\n",
        "a1 = x > 15\n",
        "print(a1)"
      ],
      "execution_count": 20,
      "outputs": [
        {
          "output_type": "stream",
          "text": [
            "False\n"
          ],
          "name": "stdout"
        }
      ]
    },
    {
      "cell_type": "code",
      "metadata": {
        "id": "nBbfvpaUt-jy",
        "colab_type": "code",
        "colab": {}
      },
      "source": [
        ""
      ],
      "execution_count": 0,
      "outputs": []
    },
    {
      "cell_type": "markdown",
      "metadata": {
        "id": "9oPD-K-iuWvs",
        "colab_type": "text"
      },
      "source": [
        "# logical operators\n",
        "- and\n",
        "- or\n",
        "- not"
      ]
    },
    {
      "cell_type": "code",
      "metadata": {
        "id": "i5FtzBatumZv",
        "colab_type": "code",
        "colab": {
          "base_uri": "https://localhost:8080/",
          "height": 69
        },
        "outputId": "6fe5cd2d-b1c1-49c1-e743-338f8b06f6c5"
      },
      "source": [
        "i =100\n",
        "a1 = (i>15) and (i < 800)\n",
        "a2 = (i>15) or (i > 800)\n",
        "i =  not 100\n",
        "print(a1)\n",
        "print(a2)\n",
        "print(i)"
      ],
      "execution_count": 28,
      "outputs": [
        {
          "output_type": "stream",
          "text": [
            "True\n",
            "True\n",
            "False\n"
          ],
          "name": "stdout"
        }
      ]
    },
    {
      "cell_type": "markdown",
      "metadata": {
        "id": "PoWCA0YIv_3E",
        "colab_type": "text"
      },
      "source": [
        "# control flow statements\n",
        "- conditional statements\n",
        "- looping statements"
      ]
    },
    {
      "cell_type": "code",
      "metadata": {
        "id": "ebPqEmlBu9bE",
        "colab_type": "code",
        "colab": {}
      },
      "source": [
        "\n"
      ],
      "execution_count": 0,
      "outputs": []
    },
    {
      "cell_type": "markdown",
      "metadata": {
        "id": "suxadq9vwbhz",
        "colab_type": "text"
      },
      "source": [
        "# if - else statements\n",
        "## syntax\n",
        "# if Boolean_condition\n",
        "# statements\n",
        "# else:\n",
        "# statements"
      ]
    },
    {
      "cell_type": "code",
      "metadata": {
        "id": "i5Om_8c-wuII",
        "colab_type": "code",
        "colab": {
          "base_uri": "https://localhost:8080/",
          "height": 52
        },
        "outputId": "b0c77f27-d2d1-4b22-ee0d-3f5066b772f2"
      },
      "source": [
        "# To check given is even or odd\n",
        "n = int(input(\"enter a number\"))\n",
        "if n%2 == 0:\n",
        "  print(n,\"is even number\")\n",
        "else:\n",
        "  print(n,\"is odd number\")"
      ],
      "execution_count": 29,
      "outputs": [
        {
          "output_type": "stream",
          "text": [
            "enter a number45\n",
            "45 is odd number\n"
          ],
          "name": "stdout"
        }
      ]
    },
    {
      "cell_type": "code",
      "metadata": {
        "id": "Gv72DTZfxXyq",
        "colab_type": "code",
        "colab": {}
      },
      "source": [
        "# to check given number is perfectly multiples of 3 and 5\n",
        "n = int(input(\"enter a number\"))\n",
        "if n%3 == 0 and n%5 == 0:\n",
        "  print(n,\"is perfectly multiples of 3 and 5\")\n",
        "else:\n",
        "  print(n,\"is NOT perfectly multiples of 3 and 5\")"
      ],
      "execution_count": 0,
      "outputs": []
    },
    {
      "cell_type": "code",
      "metadata": {
        "id": "Wid0WyCe2PwE",
        "colab_type": "code",
        "colab": {}
      },
      "source": [
        ""
      ],
      "execution_count": 0,
      "outputs": []
    },
    {
      "cell_type": "markdown",
      "metadata": {
        "id": "DVU4xhsp2aiS",
        "colab_type": "text"
      },
      "source": [
        "# FIND THE LARGEST NUMBER AMONG THE GIVEN 3 NUMBERS"
      ]
    },
    {
      "cell_type": "code",
      "metadata": {
        "id": "6zmDPOeA2h5J",
        "colab_type": "code",
        "colab": {
          "base_uri": "https://localhost:8080/",
          "height": 87
        },
        "outputId": "c5a76a91-46d5-4dbc-8501-70080823717d"
      },
      "source": [
        "a=int(input(\"ENTER A \"))\n",
        "b=int(input(\"enter B\"))\n",
        "c=int(input(\"enter C\"))\n",
        "if(a>b and a>c):\n",
        "  print(\" A is greater\")\n",
        "elif(b>a and b>c):\n",
        "  print(\"B is greater\")\n",
        "else:\n",
        "  print(\"C is greater\")"
      ],
      "execution_count": 30,
      "outputs": [
        {
          "output_type": "stream",
          "text": [
            "ENTER A 15\n",
            "enter B10\n",
            "enter C8\n",
            " A is greater\n"
          ],
          "name": "stdout"
        }
      ]
    },
    {
      "cell_type": "code",
      "metadata": {
        "id": "uE6HIU-S3XwO",
        "colab_type": "code",
        "colab": {
          "base_uri": "https://localhost:8080/",
          "height": 52
        },
        "outputId": "691659df-1f45-4c08-c61f-99ccc4b2161d"
      },
      "source": [
        "a=int(input(\"enter a\"))\n",
        "if(a>0):\n",
        "  print(\" a is positive \")\n",
        "elif(a<0):\n",
        "  print(\"a is negative\")\n",
        "else:\n",
        "  print(\" given number is zero which is neither positive nor negative\")"
      ],
      "execution_count": 31,
      "outputs": [
        {
          "output_type": "stream",
          "text": [
            "enter a-5\n",
            "a is negative\n"
          ],
          "name": "stdout"
        }
      ]
    },
    {
      "cell_type": "code",
      "metadata": {
        "id": "vkvuP20F3EHo",
        "colab_type": "code",
        "colab": {}
      },
      "source": [
        ""
      ],
      "execution_count": 0,
      "outputs": []
    }
  ]
}
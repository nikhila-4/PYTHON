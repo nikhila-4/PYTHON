{
  "nbformat": 4,
  "nbformat_minor": 0,
  "metadata": {
    "colab": {
      "name": "day9(30-01-2020)",
      "provenance": [],
      "authorship_tag": "ABX9TyMtX1W0hWdqlpkTC+9wOfDd",
      "include_colab_link": true
    },
    "kernelspec": {
      "name": "python3",
      "display_name": "Python 3"
    }
  },
  "cells": [
    {
      "cell_type": "markdown",
      "metadata": {
        "id": "view-in-github",
        "colab_type": "text"
      },
      "source": [
        "<a href=\"https://colab.research.google.com/github/nikhila-4/PYTHON/blob/master/day9(30_01_2020).ipynb\" target=\"_parent\"><img src=\"https://colab.research.google.com/assets/colab-badge.svg\" alt=\"Open In Colab\"/></a>"
      ]
    },
    {
      "cell_type": "code",
      "metadata": {
        "id": "tKN4or0C-yFB",
        "colab_type": "code",
        "colab": {
          "base_uri": "https://localhost:8080/",
          "height": 34
        },
        "outputId": "12c080ae-693b-4ff2-a266-c71906aeaee8"
      },
      "source": [
        "print(\"nikhila narapareddy\")"
      ],
      "execution_count": 1,
      "outputs": [
        {
          "output_type": "stream",
          "text": [
            "nikhila narapareddy\n"
          ],
          "name": "stdout"
        }
      ]
    },
    {
      "cell_type": "code",
      "metadata": {
        "id": "w5rmdniKDCVh",
        "colab_type": "code",
        "colab": {
          "base_uri": "https://localhost:8080/",
          "height": 34
        },
        "outputId": "f2253f5a-8f8b-438d-8ab6-9047a023ad17"
      },
      "source": [
        "print(\"nikhila,reddy\")"
      ],
      "execution_count": 3,
      "outputs": [
        {
          "output_type": "stream",
          "text": [
            "nikhila,reddy\n"
          ],
          "name": "stdout"
        }
      ]
    },
    {
      "cell_type": "code",
      "metadata": {
        "id": "g0NRJn7jIhfT",
        "colab_type": "code",
        "colab": {
          "base_uri": "https://localhost:8080/",
          "height": 34
        },
        "outputId": "825b0028-e7df-4fbf-fac9-c7c83a9166a4"
      },
      "source": [
        "print(\"nikhila,reddy\",\"|||\",\"kadapa\")"
      ],
      "execution_count": 4,
      "outputs": [
        {
          "output_type": "stream",
          "text": [
            "nikhila,reddy ||| kadapa\n"
          ],
          "name": "stdout"
        }
      ]
    },
    {
      "cell_type": "markdown",
      "metadata": {
        "id": "MoJrfose-7lm",
        "colab_type": "text"
      },
      "source": [
        "***adding links to markdown***\n",
        "[site]https://www.jntua.ac.in/\n",
        "###inserting image\n",
        "![text]https://www.jntua.ac.in/icon/jntua.jpg\n"
      ]
    },
    {
      "cell_type": "markdown",
      "metadata": {
        "id": "jBmvtoJWI4ex",
        "colab_type": "text"
      },
      "source": [
        "***Assignment***"
      ]
    },
    {
      "cell_type": "code",
      "metadata": {
        "id": "kvzrYyMJI_gA",
        "colab_type": "code",
        "colab": {
          "base_uri": "https://localhost:8080/",
          "height": 68
        },
        "outputId": "af2fb4f2-1169-4433-b37d-838a2f3e99ff"
      },
      "source": [
        "n1= 100 # single variable assignment\n",
        "print(n1)\n",
        "a=b=c=10 # multiple variable assignment\n",
        "print(a,b,c)\n",
        "a1=b1=c1=100,200,300 #multiple variable assignment with different values\n",
        "print(a1,b1,c1)"
      ],
      "execution_count": 6,
      "outputs": [
        {
          "output_type": "stream",
          "text": [
            "100\n",
            "10 10 10\n",
            "(100, 200, 300) (100, 200, 300) (100, 200, 300)\n"
          ],
          "name": "stdout"
        }
      ]
    },
    {
      "cell_type": "code",
      "metadata": {
        "id": "oED6pbAaJaKa",
        "colab_type": "code",
        "colab": {}
      },
      "source": [
        ""
      ],
      "execution_count": 0,
      "outputs": []
    },
    {
      "cell_type": "markdown",
      "metadata": {
        "id": "--27UtRNKdWk",
        "colab_type": "text"
      },
      "source": [
        "*DATA TYPES AND CONVERSIONS*"
      ]
    },
    {
      "cell_type": "code",
      "metadata": {
        "id": "ZdB2dY25Kj3g",
        "colab_type": "code",
        "colab": {}
      },
      "source": [
        ""
      ],
      "execution_count": 0,
      "outputs": []
    },
    {
      "cell_type": "markdown",
      "metadata": {
        "id": "VLsFighUKqZq",
        "colab_type": "text"
      },
      "source": [
        "*INT\n",
        "*FLOAT\n",
        "*STRING"
      ]
    },
    {
      "cell_type": "code",
      "metadata": {
        "id": "wcaHbdJnKwwr",
        "colab_type": "code",
        "colab": {
          "base_uri": "https://localhost:8080/",
          "height": 34
        },
        "outputId": "6db0869e-c324-411c-c400-19c05fc9e862"
      },
      "source": [
        "a=100\n",
        "s1=\"10.2\"\n",
        "s2=\"python\"\n",
        "print(type(a),type(s1),type(s2))"
      ],
      "execution_count": 7,
      "outputs": [
        {
          "output_type": "stream",
          "text": [
            "<class 'int'> <class 'str'> <class 'str'>\n"
          ],
          "name": "stdout"
        }
      ]
    },
    {
      "cell_type": "code",
      "metadata": {
        "id": "2IguzcfGLd8a",
        "colab_type": "code",
        "colab": {
          "base_uri": "https://localhost:8080/",
          "height": 68
        },
        "outputId": "d0b23ffd-4b8d-4759-f38b-8b9a9cfe9fb7"
      },
      "source": [
        "i=100\n",
        "print(i)\n",
        "s1=str(i)\n",
        "print(type(s1))\n",
        "f1=float(i)\n",
        "print(type(f1))"
      ],
      "execution_count": 8,
      "outputs": [
        {
          "output_type": "stream",
          "text": [
            "100\n",
            "<class 'str'>\n",
            "<class 'float'>\n"
          ],
          "name": "stdout"
        }
      ]
    },
    {
      "cell_type": "code",
      "metadata": {
        "id": "8Q6V-VNRMRTH",
        "colab_type": "code",
        "colab": {
          "base_uri": "https://localhost:8080/",
          "height": 34
        },
        "outputId": "971378d4-304c-4bf0-cad9-4ac5b7d39105"
      },
      "source": [
        "#length\n",
        "a = 123456\n",
        "print(len(str(a)))"
      ],
      "execution_count": 12,
      "outputs": [
        {
          "output_type": "stream",
          "text": [
            "6\n"
          ],
          "name": "stdout"
        }
      ]
    },
    {
      "cell_type": "code",
      "metadata": {
        "id": "ruzUfiD1M83Z",
        "colab_type": "code",
        "colab": {}
      },
      "source": [
        ""
      ],
      "execution_count": 0,
      "outputs": []
    },
    {
      "cell_type": "markdown",
      "metadata": {
        "id": "Kx2G4eyCNb4M",
        "colab_type": "text"
      },
      "source": [
        "#reading input from user ---input function"
      ]
    },
    {
      "cell_type": "code",
      "metadata": {
        "id": "FamZD6tDNif5",
        "colab_type": "code",
        "colab": {
          "base_uri": "https://localhost:8080/",
          "height": 68
        },
        "outputId": "23ad2f60-a49f-46c2-afb0-651856ba9a94"
      },
      "source": [
        "a = input(\"enter your name\")\n",
        "print(a)\n",
        "print(type(a))\n"
      ],
      "execution_count": 13,
      "outputs": [
        {
          "output_type": "stream",
          "text": [
            "enter your namenikhila\n",
            "nikhila\n",
            "<class 'str'>\n"
          ],
          "name": "stdout"
        }
      ]
    },
    {
      "cell_type": "code",
      "metadata": {
        "id": "P3hw1xJNOnzz",
        "colab_type": "code",
        "colab": {
          "base_uri": "https://localhost:8080/",
          "height": 68
        },
        "outputId": "0c94fc6a-9683-4820-fbde-794918195adf"
      },
      "source": [
        "B=int(input(\"enter your age:\"))\n",
        "print(B)\n",
        "print(type(B))"
      ],
      "execution_count": 15,
      "outputs": [
        {
          "output_type": "stream",
          "text": [
            "enter your age:20\n",
            "20\n",
            "<class 'int'>\n"
          ],
          "name": "stdout"
        }
      ]
    },
    {
      "cell_type": "code",
      "metadata": {
        "id": "QUwrnkcjN2Eo",
        "colab_type": "code",
        "colab": {}
      },
      "source": [
        "\n",
        "\n"
      ],
      "execution_count": 0,
      "outputs": []
    },
    {
      "cell_type": "markdown",
      "metadata": {
        "id": "Ww3P83IsPWi3",
        "colab_type": "text"
      },
      "source": [
        "***operators***"
      ]
    },
    {
      "cell_type": "markdown",
      "metadata": {
        "id": "2xIs2WulPaCY",
        "colab_type": "text"
      },
      "source": [
        "# arthimetic operatpor\n",
        "- +\n",
        "--\n",
        "-*\n",
        "-/\n",
        "-%\n",
        "-\\\\"
      ]
    },
    {
      "cell_type": "code",
      "metadata": {
        "id": "06790cLfPxfN",
        "colab_type": "code",
        "colab": {
          "base_uri": "https://localhost:8080/",
          "height": 136
        },
        "outputId": "fec95119-a0f8-4134-b9d9-271ac4a97f3d"
      },
      "source": [
        "a=1234\n",
        "print(a+10)\n",
        "print(a-10)\n",
        "print(a*10)\n",
        "print(a/10)\n",
        "print(a%10)\n",
        "print(a//10)\n",
        "print(a**10)"
      ],
      "execution_count": 17,
      "outputs": [
        {
          "output_type": "stream",
          "text": [
            "1244\n",
            "1224\n",
            "12340\n",
            "123.4\n",
            "4\n",
            "123\n",
            "8187505353567209228244052427776\n"
          ],
          "name": "stdout"
        }
      ]
    },
    {
      "cell_type": "code",
      "metadata": {
        "id": "3pMJehf3QTa2",
        "colab_type": "code",
        "colab": {}
      },
      "source": [
        ""
      ],
      "execution_count": 0,
      "outputs": []
    },
    {
      "cell_type": "markdown",
      "metadata": {
        "id": "wjI92_7yR6tG",
        "colab_type": "text"
      },
      "source": [
        "#relational operator\n",
        "-=\n",
        "-==\n",
        "-!=\n",
        "-<\n",
        "->\n",
        "-<=\n",
        "->="
      ]
    },
    {
      "cell_type": "code",
      "metadata": {
        "id": "FC59vgXuSar5",
        "colab_type": "code",
        "colab": {
          "base_uri": "https://localhost:8080/",
          "height": 34
        },
        "outputId": "8c7902f2-c804-409a-8f36-b780ccd8588e"
      },
      "source": [
        "x =10\n",
        "a1 = x>15\n",
        "print(a1)"
      ],
      "execution_count": 18,
      "outputs": [
        {
          "output_type": "stream",
          "text": [
            "False\n"
          ],
          "name": "stdout"
        }
      ]
    },
    {
      "cell_type": "code",
      "metadata": {
        "id": "IdSi2FrySXM6",
        "colab_type": "code",
        "colab": {}
      },
      "source": [
        "\n"
      ],
      "execution_count": 0,
      "outputs": []
    },
    {
      "cell_type": "markdown",
      "metadata": {
        "id": "i-zBdf7FS_fB",
        "colab_type": "text"
      },
      "source": [
        "# logical operators\n",
        "\n",
        "- and\n",
        "- or\n",
        "- not"
      ]
    },
    {
      "cell_type": "code",
      "metadata": {
        "id": "BlmUx281TL0E",
        "colab_type": "code",
        "colab": {
          "base_uri": "https://localhost:8080/",
          "height": 68
        },
        "outputId": "eebbb9bc-da8e-4cb2-a21e-a35f3e2d8e3a"
      },
      "source": [
        "i=100\n",
        "a1= i>15 and  i<800\n",
        "a2= i>15 or i>800\n",
        "a3 = i != 10\n",
        "print(a1)\n",
        "print(a2)\n",
        "print(a3)\n"
      ],
      "execution_count": 23,
      "outputs": [
        {
          "output_type": "stream",
          "text": [
            "True\n",
            "True\n",
            "True\n"
          ],
          "name": "stdout"
        }
      ]
    },
    {
      "cell_type": "code",
      "metadata": {
        "id": "IIY7uIpfTw1W",
        "colab_type": "code",
        "colab": {}
      },
      "source": [
        ""
      ],
      "execution_count": 0,
      "outputs": []
    },
    {
      "cell_type": "markdown",
      "metadata": {
        "id": "rxe488oGUlp7",
        "colab_type": "text"
      },
      "source": [
        "# control flow statements\n",
        "- conditional\n",
        "- looping\n"
      ]
    },
    {
      "cell_type": "code",
      "metadata": {
        "id": "_y05BDV9UwuN",
        "colab_type": "code",
        "colab": {}
      },
      "source": [
        ""
      ],
      "execution_count": 0,
      "outputs": []
    },
    {
      "cell_type": "markdown",
      "metadata": {
        "id": "fyLNQFziU_dq",
        "colab_type": "text"
      },
      "source": [
        "# if else statement\n",
        "## syntax\n",
        "#if Boolean_condition\n",
        "#statements\n",
        "#else:\n",
        "#statements"
      ]
    },
    {
      "cell_type": "code",
      "metadata": {
        "id": "vLir1B7MVa2j",
        "colab_type": "code",
        "colab": {
          "base_uri": "https://localhost:8080/",
          "height": 51
        },
        "outputId": "a28864d1-4226-4201-9508-ab9712d71ca7"
      },
      "source": [
        "# to check given number is even or odd\n",
        "n = int(input(\"enter a number\"))\n",
        "if n%2 == 0:\n",
        "\n",
        "   print(n,\"is a even number\")\n",
        "else:\n",
        "  print(n,\"is odd number\")"
      ],
      "execution_count": 27,
      "outputs": [
        {
          "output_type": "stream",
          "text": [
            "enter a number1\n",
            "1 is odd number\n"
          ],
          "name": "stdout"
        }
      ]
    },
    {
      "cell_type": "code",
      "metadata": {
        "id": "-7JvKnbeWbt8",
        "colab_type": "code",
        "colab": {
          "base_uri": "https://localhost:8080/",
          "height": 51
        },
        "outputId": "d516c7e1-74f8-4ff6-fb30-d028a11537d3"
      },
      "source": [
        "# to checht given number is multiples of 3 and 5\n",
        "n = int(input(\"enter a number\"))\n",
        "if n%3 == 0 and n%5 == 0:\n",
        " print(n,\"multiple of 3 and 5\")\n",
        "else:\n",
        "  print(n,\"not multiple of 3 and 5\")"
      ],
      "execution_count": 37,
      "outputs": [
        {
          "output_type": "stream",
          "text": [
            "enter a number15\n",
            "15 multiple of 3 and 5\n"
          ],
          "name": "stdout"
        }
      ]
    },
    {
      "cell_type": "code",
      "metadata": {
        "id": "ad2dpRNsXmB8",
        "colab_type": "code",
        "colab": {
          "base_uri": "https://localhost:8080/",
          "height": 51
        },
        "outputId": "16ffb39c-26b7-42c4-9b07-2d8caeadeafa"
      },
      "source": [
        "#given number is positive negative or zero\n",
        "n = int(input(\"enter a number\"))\n",
        "if n>0:\n",
        "  print(n,\"positive\")\n",
        "elif n<0:\n",
        "  print(n,\"NEGATIVE\")\n",
        "else:\n",
        "  print(n,\"zero\")   "
      ],
      "execution_count": 39,
      "outputs": [
        {
          "output_type": "stream",
          "text": [
            "enter a number6\n",
            "6 positive\n"
          ],
          "name": "stdout"
        }
      ]
    },
    {
      "cell_type": "code",
      "metadata": {
        "id": "dM5iKoBoaWT-",
        "colab_type": "code",
        "colab": {
          "base_uri": "https://localhost:8080/",
          "height": 85
        },
        "outputId": "05c4798d-a2aa-41eb-e19c-cb932feb7a53"
      },
      "source": [
        "a =int(input(\"enter a \"))\n",
        "b =int(input(\"enter b\"))\n",
        "c =int(input(\"enter c\"))\n",
        "if (a>b and a>c):\n",
        " print(\"a is greater\")\n",
        "elif(b>a and b>c):\n",
        " print(\"b is greater\")\n",
        "else:\n",
        " print(\"c is greater\")     "
      ],
      "execution_count": 40,
      "outputs": [
        {
          "output_type": "stream",
          "text": [
            "enter a 7\n",
            "enter b8\n",
            "enter c9\n",
            "c is greater\n"
          ],
          "name": "stdout"
        }
      ]
    },
    {
      "cell_type": "code",
      "metadata": {
        "id": "ExGjYj8Mcv-Q",
        "colab_type": "code",
        "colab": {
          "base_uri": "https://localhost:8080/",
          "height": 51
        },
        "outputId": "6c0819cf-4ed4-4aca-92a2-12d23bb95238"
      },
      "source": [
        "a = int(input(\"enter a\"))\n",
        "if (a%4 == 0 and a%100 !=0)or a%400 == 0:\n",
        "  print(\"leap year\")\n",
        "else:\n",
        "  print(\"not a leap year\")\n",
        "\n"
      ],
      "execution_count": 50,
      "outputs": [
        {
          "output_type": "stream",
          "text": [
            "enter a200\n",
            "not a leap year\n"
          ],
          "name": "stdout"
        }
      ]
    },
    {
      "cell_type": "code",
      "metadata": {
        "id": "zq4sULEwd_FW",
        "colab_type": "code",
        "colab": {}
      },
      "source": [
        ":"
      ],
      "execution_count": 0,
      "outputs": []
    }
  ]
}